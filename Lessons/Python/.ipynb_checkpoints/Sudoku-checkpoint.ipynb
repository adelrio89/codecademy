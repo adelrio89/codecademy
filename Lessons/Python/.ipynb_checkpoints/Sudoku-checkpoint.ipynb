{
 "cells": [
  {
   "cell_type": "code",
   "execution_count": 67,
   "metadata": {},
   "outputs": [
    {
     "name": "stdout",
     "output_type": "stream",
     "text": [
      "A -> {'B': 2, 'C': 3}\n",
      "B -> {'A': 2, 'C': 2, 'D': 4}\n",
      "C -> {'A': 3, 'B': 2, 'D': 1, 'E': 2}\n",
      "D -> {'B': 4, 'C': 1, 'F': 10}\n",
      "E -> {'C': 2}\n",
      "F -> {'D': 10}\n",
      "\n",
      "Graph created!\n"
     ]
    }
   ],
   "source": [
    "class myVertex:\n",
    "    \n",
    "    def __init__(self, value):\n",
    "        self.value = value\n",
    "        self.edges = {}\n",
    "    def add_edge(self, adjacent_value, weight = 0):\n",
    "        self.edges[adjacent_value] = weight\n",
    "    def get_edges(self):\n",
    "        return self.edges.keys()\n",
    "    \n",
    "    def __str__(self):\n",
    "        return str(self.value) + \" -> \" + str(self.edges)\n",
    "\n",
    "class MyGraph:\n",
    "    \n",
    "    def __init__(self, directed=False):\n",
    "        self.graph_dict = {}\n",
    "        self.directed = False\n",
    "        \n",
    "    def add_vertex(self, vertex):\n",
    "        self.graph_dict[vertex.value] = vertex\n",
    "        \n",
    "    def add_edge(self, from_vertex, to_vertex, weight = 0):\n",
    "        self.graph_dict[from_vertex.value].add_edge(to_vertex.value, weight)\n",
    "        if not self.directed:\n",
    "            self.graph_dict[to_vertex.value].add_edge(from_vertex.value, weight)\n",
    "            \n",
    "    def bfs(self, from_value, to_value):\n",
    "        pass\n",
    "    \n",
    "    def dfs(self, from_value, to_value):\n",
    "        pass\n",
    "    \n",
    "    def __str__(self):\n",
    "        str_graph = \"\"\n",
    "        for vertex in self.graph_dict:\n",
    "            str_graph = str_graph + str(self.graph_dict[vertex]) + \"\\n\"\n",
    "        return str_graph\n",
    "            \n",
    "def build_graph():\n",
    "    '''\n",
    "    Build a graph by reading a text file with the following structure:\n",
    "    Line 1. A list of vertices. For instance: A B C D E\n",
    "    Other lines. A relation b/w an origen vertex and a target vertex, and a weight. For instance: A B 3\n",
    "    '''\n",
    "    graph = MyGraph()\n",
    "    count = 0\n",
    "    with open('graph.txt', encoding='utf8') as f:\n",
    "        for line in f:\n",
    "            if count == 0:\n",
    "                vertices = line.strip().split()\n",
    "                for value in vertices:\n",
    "                    new_vertex = myVertex(value)\n",
    "                    graph.add_vertex(new_vertex)\n",
    "            else:\n",
    "                relation = line.strip().split()\n",
    "                origin = myVertex(relation[0])\n",
    "                target = myVertex(relation[1])\n",
    "                weight = int(relation[2])\n",
    "                graph.add_edge(origin, target, weight)\n",
    "            count += 1\n",
    "    return graph\n",
    "print(str(build_graph()))\n",
    "print(\"Graph created!\")"
   ]
  },
  {
   "cell_type": "code",
   "execution_count": 15,
   "metadata": {},
   "outputs": [],
   "source": [
    "def welcome():\n",
    "    print(\"Welcome to Sudoku\")"
   ]
  },
  {
   "cell_type": "code",
   "execution_count": 34,
   "metadata": {},
   "outputs": [],
   "source": [
    "def getInputUser():\n",
    "    n = int(input(\"Select the number of your sudoku (3,9):\"))\n",
    "    line = [0 for i in range(n)]\n",
    "    grid = [line for i in range(n)]\n",
    "    if n in [3, 9]:\n",
    "        return grid\n",
    "    else:\n",
    "        print(\"Try again! \" + str(n) + \" is not a valid entrance (3,9)\")\n",
    "        return getInputUser()"
   ]
  },
  {
   "cell_type": "code",
   "execution_count": 46,
   "metadata": {},
   "outputs": [],
   "source": [
    "def sudoku():\n",
    "    welcome()\n",
    "    myGraph = MyGraph()\n",
    "    user_input = getInputUser()\n",
    "    print(str(user_input)+\" is ok!\")"
   ]
  },
  {
   "cell_type": "code",
   "execution_count": 47,
   "metadata": {},
   "outputs": [
    {
     "name": "stdout",
     "output_type": "stream",
     "text": [
      "Welcome to Sudoku\n",
      "Graph created!\n",
      "Select the number of your sudoku (3,9):3\n",
      "[[0, 0, 0], [0, 0, 0], [0, 0, 0]] is ok!\n"
     ]
    }
   ],
   "source": [
    "sudoku()"
   ]
  },
  {
   "cell_type": "code",
   "execution_count": null,
   "metadata": {},
   "outputs": [],
   "source": []
  }
 ],
 "metadata": {
  "kernelspec": {
   "display_name": "Python 3",
   "language": "python",
   "name": "python3"
  },
  "language_info": {
   "codemirror_mode": {
    "name": "ipython",
    "version": 3
   },
   "file_extension": ".py",
   "mimetype": "text/x-python",
   "name": "python",
   "nbconvert_exporter": "python",
   "pygments_lexer": "ipython3",
   "version": "3.7.4"
  }
 },
 "nbformat": 4,
 "nbformat_minor": 2
}
