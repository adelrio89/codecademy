{
 "cells": [
  {
   "cell_type": "markdown",
   "metadata": {},
   "source": [
    "Functions are just objects"
   ]
  },
  {
   "cell_type": "markdown",
   "metadata": {},
   "source": [
    "**Functions within functions**"
   ]
  },
  {
   "cell_type": "code",
   "execution_count": 1,
   "metadata": {},
   "outputs": [
    {
     "name": "stdout",
     "output_type": "stream",
     "text": [
      "15\n"
     ]
    }
   ],
   "source": [
    "def add_five(num):\n",
    "    def add_two(num):\n",
    "        return num + 2\n",
    "    num_plus_two = add_two(num)\n",
    "    print(num_plus_two + 3)\n",
    "\n",
    "add_five(10)"
   ]
  },
  {
   "cell_type": "markdown",
   "metadata": {},
   "source": [
    "**Returning functions from functions**"
   ]
  },
  {
   "cell_type": "code",
   "execution_count": 4,
   "metadata": {},
   "outputs": [
    {
     "name": "stdout",
     "output_type": "stream",
     "text": [
      "<function get_math_function.<locals>.add at 0x7fe11d15e680>\n",
      "10\n",
      "-2\n"
     ]
    }
   ],
   "source": [
    "def get_math_function(operation):\n",
    "    def add(n1, n2):\n",
    "        return n1+n2\n",
    "    def sub(n1, n2):\n",
    "        return n1-n2\n",
    "    \n",
    "    if operation == \"+\":\n",
    "        return add\n",
    "    elif operation == \"-\":\n",
    "        return sub\n",
    "    \n",
    "add_function = get_math_function(\"+\")\n",
    "sub_function = get_math_function(\"-\")\n",
    "print(add_function)\n",
    "print(add_function(4,6))\n",
    "print(sub_function(4,6))"
   ]
  },
  {
   "cell_type": "markdown",
   "metadata": {},
   "source": [
    "**Decoreting a function**"
   ]
  },
  {
   "cell_type": "code",
   "execution_count": 18,
   "metadata": {},
   "outputs": [
    {
     "name": "stdout",
     "output_type": "stream",
     "text": [
      "Professor:\n",
      "Joe\n"
     ]
    }
   ],
   "source": [
    "def title_decorator(print_name_function):\n",
    "    def wrapper():\n",
    "        print(\"Professor:\")\n",
    "        print_name_function()\n",
    "    return wrapper\n",
    "\n",
    "def print_my_name():\n",
    "    print(\"Andrés\")\n",
    "\n",
    "def print_joes_name():\n",
    "    print(\"Joe\")\n",
    "    \n",
    "#decorated_function = title_decorator(print_my_name)\n",
    "decorated_function = title_decorator(print_joes_name)\n",
    "decorated_function()"
   ]
  },
  {
   "cell_type": "markdown",
   "metadata": {},
   "source": [
    "**Decorators**"
   ]
  },
  {
   "cell_type": "code",
   "execution_count": 19,
   "metadata": {},
   "outputs": [
    {
     "name": "stdout",
     "output_type": "stream",
     "text": [
      "Professor:\n",
      "Andrés\n"
     ]
    }
   ],
   "source": [
    "def title_decorator(print_name_function):\n",
    "    def wrapper():\n",
    "        print(\"Professor:\")\n",
    "        print_name_function()\n",
    "    return wrapper\n",
    "\n",
    "@title_decorator\n",
    "def print_my_name():\n",
    "    print(\"Andrés\")\n",
    "\n",
    "def print_joes_name():\n",
    "    print(\"Joe\")\n",
    "    \n",
    "print_my_name()"
   ]
  },
  {
   "cell_type": "raw",
   "metadata": {},
   "source": [
    "So these two lines:\n",
    "    decorated_function = title_decorator(print_my_name)\n",
    "    decorated_function()\n",
    "are replaced by @title_decorator above the print_my_name function"
   ]
  },
  {
   "cell_type": "markdown",
   "metadata": {},
   "source": [
    "**Decorators with parameters**"
   ]
  },
  {
   "cell_type": "code",
   "execution_count": 27,
   "metadata": {},
   "outputs": [
    {
     "name": "stdout",
     "output_type": "stream",
     "text": [
      "Professor:\n",
      "Andrés is 32 years old\n"
     ]
    }
   ],
   "source": [
    "def title_decorator(print_name_function):\n",
    "    def wrapper(*args, **kwargs):\n",
    "        print(\"Professor:\")\n",
    "        print_name_function(*args, **kwargs)\n",
    "    return wrapper\n",
    "\n",
    "@title_decorator\n",
    "def print_my_name(name, age):\n",
    "    print(name, \"is\", str(age), \"years old\")\n",
    "\n",
    "def print_joes_name():\n",
    "    print(\"Joe\")\n",
    "    \n",
    "print_my_name(\"Andrés\", 32)"
   ]
  },
  {
   "cell_type": "code",
   "execution_count": null,
   "metadata": {},
   "outputs": [],
   "source": []
  }
 ],
 "metadata": {
  "kernelspec": {
   "display_name": "Python 3",
   "language": "python",
   "name": "python3"
  },
  "language_info": {
   "codemirror_mode": {
    "name": "ipython",
    "version": 3
   },
   "file_extension": ".py",
   "mimetype": "text/x-python",
   "name": "python",
   "nbconvert_exporter": "python",
   "pygments_lexer": "ipython3",
   "version": "3.7.4"
  }
 },
 "nbformat": 4,
 "nbformat_minor": 2
}
